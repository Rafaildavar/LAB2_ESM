{
 "cells": [
  {
   "cell_type": "code",
   "execution_count": 1,
   "id": "3a9eadc6-6005-4671-a28e-beb145056931",
   "metadata": {},
   "outputs": [],
   "source": [
    "\n",
    "import numpy as np\n",
    "import matplotlib.pyplot as plt\n",
    "\n",
    "import math\n",
    "import pandas as pd"
   ]
  },
  {
   "cell_type": "code",
   "execution_count": 3,
   "id": "a9096f4e-4803-4d06-8eac-82a3684866ba",
   "metadata": {},
   "outputs": [],
   "source": [
    "# Создаем массив lambda_arr, который содержит значения λ от 0.10 до 0.5 с шагом 0.05.\n",
    "lambda_array = np.arange(0.10,0.5,0.05)"
   ]
  },
  {
   "cell_type": "markdown",
   "id": "7677b401-0c95-4617-b97a-46222ed1b82d",
   "metadata": {},
   "source": [
    "Pk - Реализует вычисления вероятностей для распределения Пуассона, описывающего количество новых сообщений, поступающих в систему. Для более оптимальной работы было использовано приближение Стирлинга для логарифма факториала"
   ]
  },
  {
   "cell_type": "code",
   "execution_count": 6,
   "id": "6ea0fb46-e3b7-46fa-bfc2-bcc04c963b40",
   "metadata": {},
   "outputs": [],
   "source": [
    "def Pk(lam, j):\n",
    "    log_prod = (j * math.log(lam) - lam - math.log(math.factorial(j)))\n",
    "    return math.exp(log_prod)"
   ]
  },
  {
   "cell_type": "markdown",
   "id": "d48d61d8-9ee3-4a2a-980f-369080eaee41",
   "metadata": {},
   "source": [
    "Rk - Вычисляет вероятность \"успеха\",  один активный абонент передал сообщение "
   ]
  },
  {
   "cell_type": "code",
   "execution_count": 9,
   "id": "efccc21b-6c0c-48c1-8d27-0357e9405515",
   "metadata": {},
   "outputs": [],
   "source": [
    "def Rk(i):\n",
    "    return (math.factorial(i) / (math.factorial(i - 1) * math.factorial(1))) * (1 / i) * ((1 - 1 / i) ** (i - 1))"
   ]
  },
  {
   "cell_type": "markdown",
   "id": "73aac39a-40d9-40e6-ad1e-6747d5a57321",
   "metadata": {},
   "source": [
    "Была прописана функция для расчета вероятности перехода из состояния i в состояние i-1. Событие перехода из состояния i в состояние i-1 означает, что новых АБ не появилось, и один АБ передал сообщение "
   ]
  },
  {
   "cell_type": "code",
   "execution_count": 12,
   "id": "42e82c3e-433b-47fc-a629-b81a6339ce05",
   "metadata": {},
   "outputs": [],
   "source": [
    "def p_prevState(lam, i):\n",
    "    return Rk(i) * Pk(lam, 0)"
   ]
  },
  {
   "cell_type": "markdown",
   "id": "e3da0a7f-1e2b-4959-9984-9afa04c9a45b",
   "metadata": {},
   "source": [
    "Была прописана функция для расчета вероятности перехода из состояния 0 в состояние  j. Переход из состояния 0 в состояние j может произойти, только когда количество АБ, у которых появилось сообщение будет равно j "
   ]
  },
  {
   "cell_type": "code",
   "execution_count": 15,
   "id": "ebe7a604-8a7c-44b8-a90b-d1167ffe3b53",
   "metadata": {},
   "outputs": [],
   "source": [
    "def p_zeroJump(lam, j):\n",
    "    return Pk(lam, j)"
   ]
  },
  {
   "cell_type": "markdown",
   "id": "8d3df996-7788-4c39-98cc-7e59f784c4b9",
   "metadata": {},
   "source": [
    "Была прописана функция для расчета вероятности перехода из состояния i в состояние j. Переход из состояния i в j может произойти в случае, если один АБ передал сообщение и появились (j-i+1) АБ-ов, или если ни один не передал сообщение и появились (j-i) АБ-ов "
   ]
  },
  {
   "cell_type": "code",
   "execution_count": 18,
   "id": "15ad5beb-b4ae-447f-bd1b-b052b26113c3",
   "metadata": {},
   "outputs": [],
   "source": [
    "def From_i_in_j(lam, i, j):\n",
    "    return Rk(i) * Pk(lam, j - i + 1) + (1 - Rk(i)) * Pk(lam, j - i)\n"
   ]
  },
  {
   "cell_type": "markdown",
   "id": "a44b85fd-16ae-477a-b1bc-790afdb2a419",
   "metadata": {},
   "source": [
    "Была прописана функция для расчета вероятности перехода из состояния i в состояние i. Событие перехода из состояния i в состояние i-1 означает, что новых АБ не появилось, и один АБ передал сообщение "
   ]
  },
  {
   "cell_type": "code",
   "execution_count": 21,
   "id": "75001f64-3373-44e7-a3aa-b82d38e4cbb4",
   "metadata": {},
   "outputs": [],
   "source": [
    "def Stay_in_i(lam, i):\n",
    "    return (1 - Rk(i)) * Pk(lam, 0) + Rk(i) * Pk(lam, 1)\n"
   ]
  },
  {
   "cell_type": "markdown",
   "id": "233ad63b-6ef4-44c0-8422-89c27ef8e593",
   "metadata": {},
   "source": [
    "Была прописана для построения матрицы и решения системы. Матрица 𝑃 представляет вероятности переходов между состояниями. Это квадратная матрица размером (𝑁+1)×(𝑁+1), где 𝑁 — максимальное состояние (количество абонентов). На 𝑖-й строке и 𝑗-м столбце находится вероятность перехода из состояния 𝑖 в состояние 𝑗. Для получения стационарного распределения 𝜋, решается система уравнений: 𝑃𝑇⋅𝜋=𝜋 и ∑(𝑖=0)𝑁𝜋𝑖=1. PT−I: Преобразование матрицы переходов для уравнения 𝑃𝑇⋅𝜋−𝜋=0\n",
    "np.eye(N+1): Единичная матрица, которая обеспечивает корректное вычитание 𝜋 из каждой строки \n"
   ]
  },
  {
   "cell_type": "code",
   "execution_count": 24,
   "id": "00d684ee-32dd-4410-bd2d-e3041e4b8a03",
   "metadata": {},
   "outputs": [],
   "source": [
    "def Modeling(lam, N):\n",
    "    P = np.zeros((N + 1, N + 1))\n",
    "    for i in range(N + 1):\n",
    "        for j in range(N + 1):\n",
    "            if i == 0:\n",
    "                P[i, j] += p_zeroJump(lam, j)\n",
    "            elif i == j:\n",
    "                P[i, j] += Stay_in_i(lam, i)\n",
    "            elif i < j:\n",
    "                P[i, j] += From_i_in_j(lam, i, j)\n",
    "            elif i == j + 1:\n",
    "                P[i, j] += p_prevState(lam, i)\n",
    "            else:\n",
    "                P[i, j] += 0\n",
    "    #• Здесь создается матрица A, которая состоит из двух частей:\n",
    "#• Транспонированная матрица P (то есть строки и столбцы меняются местами) с вычитанием единичной матрицы (np.eye(N + 1)). Это позволяет создать уравнения для вероятностей.\n",
    "\n",
    " # • Вторая часть — это строка с единицами (np.ones(N + 1)), которая используется для нормировки.\n",
    "\n",
    "\n",
    "    A = np.vstack([P.T - np.eye(N + 1), np.ones(N + 1)])\n",
    "    # Здесь создается вектор B, который будет содержать значения для системы уравнений. Все элементы инициализируются нулями, за исключением последнего элемента, который равен 1. \n",
    "    #Это соответствует условию нормировки: сумма всех вероятностей равна 1.\n",
    "\n",
    "    B = np.zeros(N + 2)\n",
    "    B[-1] = 1\n",
    "    #• Система уравнений решается методом наименьших квадратов с использованием функции np.linalg.lstsq(). \n",
    "    # Этот метод позволяет найти вектор вероятностей pi, который удовлетворяет условиям системы уравнений.\n",
    "\n",
    "    # Система решается методом наименьших квадратов\n",
    "    pi = np.linalg.lstsq(A, B, rcond=None)[0]\n",
    "   # • Функция возвращает вектор pi, который содержит вероятности нахождения системы в различных состояниях.\n",
    "\n",
    "    return pi\n"
   ]
  },
  {
   "cell_type": "markdown",
   "id": "7bd55afc-99b4-40fa-8fe8-c325924958dc",
   "metadata": {},
   "source": [
    "Была прописана функция для вычисления среднее количество абонентов, находящихся в системе, по формуле ∑𝑖⋅𝜋(𝑖) "
   ]
  },
  {
   "cell_type": "code",
   "execution_count": 27,
   "id": "c80a959e-6c78-4725-8952-68b8b986a5b1",
   "metadata": {},
   "outputs": [],
   "source": [
    "def avuser(mas_pi):\n",
    "    return np.sum(np.arange(len(mas_pi)) * mas_pi)\n"
   ]
  },
  {
   "cell_type": "markdown",
   "id": "e041f0bb-4a02-485d-a263-ac6d2273066c",
   "metadata": {},
   "source": [
    "Были посчитаны зависимости среднего количества АБ-ов, находящихся в системе от интенсивности входного потока   Были посчитаны зависимости среднего количества АБ-ов, находящихся в системе от интенсивности входного потока   "
   ]
  },
  {
   "cell_type": "code",
   "execution_count": 30,
   "id": "f3ce0d1f-9920-41b7-b9a1-218db46e4ac8",
   "metadata": {},
   "outputs": [],
   "source": [
    "ml10 = []\n",
    "ml50 = []\n",
    "ml100 = []\n",
    "ml1000 = []\n"
   ]
  },
  {
   "cell_type": "markdown",
   "id": "75e5e58a-b1e7-4208-9a36-afe1d4646b36",
   "metadata": {},
   "source": [
    "Были посчитаны зависимости среднего количества АБ-ов, находящихся в системе от интенсивности входного потока   (листинг 9)."
   ]
  },
  {
   "cell_type": "code",
   "execution_count": 32,
   "id": "7feee0c5-e85f-4f03-b851-70d46e8a3a07",
   "metadata": {},
   "outputs": [],
   "source": [
    "for lam in lambda_array:\n",
    "    ml10.append({'lamda': lam, 'N': avuser(Modeling(lam, 10))})\n",
    "    ml50.append({'lamda': lam, 'N': avuser(Modeling(lam, 50))})\n",
    "    ml100.append({'lamda': lam, 'N': avuser(Modeling(lam, 100))})\n",
    "    ml1000.append({'lamda': lam, 'N': avuser(Modeling(lam, 1000))})"
   ]
  },
  {
   "cell_type": "code",
   "execution_count": 33,
   "id": "e833dd2c-303d-4bff-b3f3-3d24bbed98d8",
   "metadata": {},
   "outputs": [],
   "source": [
    "ml10 = pd.DataFrame(ml10)\n",
    "ml50 = pd.DataFrame(ml50)\n",
    "ml100 = pd.DataFrame(ml100)\n",
    "ml1000 = pd.DataFrame(ml1000)"
   ]
  },
  {
   "cell_type": "code",
   "execution_count": 35,
   "id": "4e6ef7b0-f505-449c-a6de-3b080c7bb7ce",
   "metadata": {},
   "outputs": [],
   "source": [
    "ml = [1.20468000e-01,2.08371000e-01,3.37802000e-01,5.75329000e-01, 1.09351200e+00 ,4.39146600e+00 ,1.52583347e+04 ,4.18770401e+04]"
   ]
  },
  {
   "cell_type": "code",
   "execution_count": 50,
   "id": "6b3bf1bb-beeb-44da-bbfa-42532ade5b99",
   "metadata": {},
   "outputs": [
    {
     "data": {
      "image/png": "[encoded data removed]",
      "text/plain": [
       "<Figure size 1000x600 with 1 Axes>"
      ]
     },
     "metadata": {},
     "output_type": "display_data"
    }
   ],
   "source": [
    "plt.figure(figsize=(10, 6))\n",
    "plt.plot(ml10['lamda'], ml10['N'], color='r', label='k=10')\n",
    "plt.plot(ml50['lamda'], ml50['N'], color='g', label='k=50')\n",
    "plt.plot(ml100['lamda'], ml100['N'], color='y', label='k=100')\n",
    "plt.plot(ml1000['lamda'], ml1000['N'], color='b', label='k=1000')\n",
    "plt.plot(lambda_array, ml, marker='o', color='black', label = 'график предыдущей работы')\n",
    "plt.yscale('log')\n",
    "plt.ylabel('Количество пользователей')\n",
    "plt.xlabel('lambda')\n",
    "plt.legend()\n",
    "plt.xticks(lambda_array)\n",
    "plt.show()\n"
   ]
  },
  {
   "cell_type": "code",
   "execution_count": null,
   "id": "f8e30e69-d9e9-4562-a36b-989073635066",
   "metadata": {},
   "outputs": [],
   "source": []
  },
  {
   "cell_type": "code",
   "execution_count": null,
   "id": "2efb80da-d4bc-4038-ba2c-9ef239907318",
   "metadata": {},
   "outputs": [],
   "source": []
  },
  {
   "cell_type": "code",
   "execution_count": null,
   "id": "d08e0e22-75f8-4cad-b622-e5fdba5c99ad",
   "metadata": {},
   "outputs": [],
   "source": []
  },
  {
   "cell_type": "code",
   "execution_count": null,
   "id": "420f7f91-c69a-4b94-96fe-0887c7703409",
   "metadata": {},
   "outputs": [],
   "source": []
  }
 ],
 "metadata": {
  "kernelspec": {
   "display_name": "Python 3 (ipykernel)",
   "language": "python",
   "name": "python3"
  },
  "language_info": {
   "codemirror_mode": {
    "name": "ipython",
    "version": 3
   },
   "file_extension": ".py",
   "mimetype": "text/x-python",
   "name": "python",
   "nbconvert_exporter": "python",
   "pygments_lexer": "ipython3",
   "version": "3.10.14"
  }
 },
 "nbformat": 4,
 "nbformat_minor": 5
}
